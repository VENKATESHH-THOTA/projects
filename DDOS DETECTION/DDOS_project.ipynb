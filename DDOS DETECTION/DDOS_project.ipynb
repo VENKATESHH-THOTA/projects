{
  "nbformat": 4,
  "nbformat_minor": 0,
  "metadata": {
    "colab": {
      "provenance": []
    },
    "kernelspec": {
      "name": "python3",
      "display_name": "Python 3"
    },
    "language_info": {
      "name": "python"
    }
  },
  "cells": [
    {
      "cell_type": "code",
      "execution_count": null,
      "metadata": {
        "colab": {
          "base_uri": "https://localhost:8080/"
        },
        "id": "OZZYTLOmCTXI",
        "outputId": "ebd5b1f2-2756-4503-9c8e-1f4e14b5555f"
      },
      "outputs": [
        {
          "output_type": "stream",
          "name": "stdout",
          "text": [
            "Looking in indexes: https://pypi.org/simple, https://us-python.pkg.dev/colab-wheels/public/simple/\n",
            "Requirement already satisfied: pandas in /usr/local/lib/python3.10/dist-packages (1.5.3)\n",
            "Requirement already satisfied: numpy in /usr/local/lib/python3.10/dist-packages (1.22.4)\n",
            "Requirement already satisfied: matplotlib in /usr/local/lib/python3.10/dist-packages (3.7.1)\n",
            "Requirement already satisfied: seaborn in /usr/local/lib/python3.10/dist-packages (0.12.2)\n",
            "Requirement already satisfied: scikit-learn in /usr/local/lib/python3.10/dist-packages (1.2.2)\n",
            "Requirement already satisfied: python-dateutil>=2.8.1 in /usr/local/lib/python3.10/dist-packages (from pandas) (2.8.2)\n",
            "Requirement already satisfied: pytz>=2020.1 in /usr/local/lib/python3.10/dist-packages (from pandas) (2022.7.1)\n",
            "Requirement already satisfied: contourpy>=1.0.1 in /usr/local/lib/python3.10/dist-packages (from matplotlib) (1.0.7)\n",
            "Requirement already satisfied: cycler>=0.10 in /usr/local/lib/python3.10/dist-packages (from matplotlib) (0.11.0)\n",
            "Requirement already satisfied: fonttools>=4.22.0 in /usr/local/lib/python3.10/dist-packages (from matplotlib) (4.39.3)\n",
            "Requirement already satisfied: kiwisolver>=1.0.1 in /usr/local/lib/python3.10/dist-packages (from matplotlib) (1.4.4)\n",
            "Requirement already satisfied: packaging>=20.0 in /usr/local/lib/python3.10/dist-packages (from matplotlib) (23.1)\n",
            "Requirement already satisfied: pillow>=6.2.0 in /usr/local/lib/python3.10/dist-packages (from matplotlib) (8.4.0)\n",
            "Requirement already satisfied: pyparsing>=2.3.1 in /usr/local/lib/python3.10/dist-packages (from matplotlib) (3.0.9)\n",
            "Requirement already satisfied: scipy>=1.3.2 in /usr/local/lib/python3.10/dist-packages (from scikit-learn) (1.10.1)\n",
            "Requirement already satisfied: joblib>=1.1.1 in /usr/local/lib/python3.10/dist-packages (from scikit-learn) (1.2.0)\n",
            "Requirement already satisfied: threadpoolctl>=2.0.0 in /usr/local/lib/python3.10/dist-packages (from scikit-learn) (3.1.0)\n",
            "Requirement already satisfied: six>=1.5 in /usr/local/lib/python3.10/dist-packages (from python-dateutil>=2.8.1->pandas) (1.16.0)\n"
          ]
        }
      ],
      "source": [
        "pip install pandas numpy matplotlib seaborn scikit-learn"
      ]
    },
    {
      "cell_type": "code",
      "source": [
        "#importing modules\n",
        "import pandas as pd\n",
        "import numpy as np\n",
        "import matplotlib.pyplot as plt\n",
        "import seaborn as sns\n",
        "\n",
        "from sklearn import metrics\n"
      ],
      "metadata": {
        "id": "V6Z8FydhCnjj"
      },
      "execution_count": null,
      "outputs": []
    },
    {
      "cell_type": "code",
      "source": [
        "df=pd.read_csv(\"dataset_sdn.csv\")\n",
        "df"
      ],
      "metadata": {
        "id": "WjPmV2SuCxKC",
        "colab": {
          "base_uri": "https://localhost:8080/",
          "height": 487
        },
        "outputId": "47f71cad-54a3-4605-c61a-14482e5e5e1a"
      },
      "execution_count": null,
      "outputs": [
        {
          "output_type": "execute_result",
          "data": {
            "text/plain": [
              "           dt  switch        src       dst  pktcount  bytecount  dur  \\\n",
              "0       11425       1   10.0.0.1  10.0.0.8     45304   48294064  100   \n",
              "1       11605       1   10.0.0.1  10.0.0.8    126395  134737070  280   \n",
              "2       11425       1   10.0.0.2  10.0.0.8     90333   96294978  200   \n",
              "3       11425       1   10.0.0.2  10.0.0.8     90333   96294978  200   \n",
              "4       11425       1   10.0.0.2  10.0.0.8     90333   96294978  200   \n",
              "...       ...     ...        ...       ...       ...        ...  ...   \n",
              "104340   5262       3   10.0.0.5  10.0.0.7        79       7742   81   \n",
              "104341   5262       3   10.0.0.5  10.0.0.7        79       7742   81   \n",
              "104342   5262       3  10.0.0.11  10.0.0.5        31       3038   31   \n",
              "104343   5262       3  10.0.0.11  10.0.0.5        31       3038   31   \n",
              "104344   5262       3  10.0.0.11  10.0.0.5        31       3038   31   \n",
              "\n",
              "         dur_nsec       tot_dur  flows  ...  pktrate  Pairflow  Protocol  \\\n",
              "0       716000000  1.010000e+11      3  ...      451         0       UDP   \n",
              "1       734000000  2.810000e+11      2  ...      451         0       UDP   \n",
              "2       744000000  2.010000e+11      3  ...      451         0       UDP   \n",
              "3       744000000  2.010000e+11      3  ...      451         0       UDP   \n",
              "4       744000000  2.010000e+11      3  ...      451         0       UDP   \n",
              "...           ...           ...    ...  ...      ...       ...       ...   \n",
              "104340  842000000  8.184200e+10      5  ...        0         0      ICMP   \n",
              "104341  842000000  8.184200e+10      5  ...        0         0      ICMP   \n",
              "104342  805000000  3.180500e+10      5  ...        1         0      ICMP   \n",
              "104343  805000000  3.180500e+10      5  ...        1         0      ICMP   \n",
              "104344  805000000  3.180500e+10      5  ...        1         0      ICMP   \n",
              "\n",
              "        port_no   tx_bytes rx_bytes  tx_kbps  rx_kbps  tot_kbps  label  \n",
              "0             3  143928631     3917        0      0.0       0.0      0  \n",
              "1             4       3842     3520        0      0.0       0.0      0  \n",
              "2             1       3795     1242        0      0.0       0.0      0  \n",
              "3             2       3688     1492        0      0.0       0.0      0  \n",
              "4             3       3413     3665        0      0.0       0.0      0  \n",
              "...         ...        ...      ...      ...      ...       ...    ...  \n",
              "104340        1      15209    12720        1      1.0       2.0      0  \n",
              "104341        3      15099    14693        1      1.0       2.0      0  \n",
              "104342        2       3409     3731        0      0.0       0.0      0  \n",
              "104343        1      15209    12720        1      1.0       2.0      0  \n",
              "104344        3      15099    14693        1      1.0       2.0      0  \n",
              "\n",
              "[104345 rows x 23 columns]"
            ],
            "text/html": [
              "\n",
              "  <div id=\"df-c9e09803-5fab-4f57-9c0a-c560acfb23d5\">\n",
              "    <div class=\"colab-df-container\">\n",
              "      <div>\n",
              "<style scoped>\n",
              "    .dataframe tbody tr th:only-of-type {\n",
              "        vertical-align: middle;\n",
              "    }\n",
              "\n",
              "    .dataframe tbody tr th {\n",
              "        vertical-align: top;\n",
              "    }\n",
              "\n",
              "    .dataframe thead th {\n",
              "        text-align: right;\n",
              "    }\n",
              "</style>\n",
              "<table border=\"1\" class=\"dataframe\">\n",
              "  <thead>\n",
              "    <tr style=\"text-align: right;\">\n",
              "      <th></th>\n",
              "      <th>dt</th>\n",
              "      <th>switch</th>\n",
              "      <th>src</th>\n",
              "      <th>dst</th>\n",
              "      <th>pktcount</th>\n",
              "      <th>bytecount</th>\n",
              "      <th>dur</th>\n",
              "      <th>dur_nsec</th>\n",
              "      <th>tot_dur</th>\n",
              "      <th>flows</th>\n",
              "      <th>...</th>\n",
              "      <th>pktrate</th>\n",
              "      <th>Pairflow</th>\n",
              "      <th>Protocol</th>\n",
              "      <th>port_no</th>\n",
              "      <th>tx_bytes</th>\n",
              "      <th>rx_bytes</th>\n",
              "      <th>tx_kbps</th>\n",
              "      <th>rx_kbps</th>\n",
              "      <th>tot_kbps</th>\n",
              "      <th>label</th>\n",
              "    </tr>\n",
              "  </thead>\n",
              "  <tbody>\n",
              "    <tr>\n",
              "      <th>0</th>\n",
              "      <td>11425</td>\n",
              "      <td>1</td>\n",
              "      <td>10.0.0.1</td>\n",
              "      <td>10.0.0.8</td>\n",
              "      <td>45304</td>\n",
              "      <td>48294064</td>\n",
              "      <td>100</td>\n",
              "      <td>716000000</td>\n",
              "      <td>1.010000e+11</td>\n",
              "      <td>3</td>\n",
              "      <td>...</td>\n",
              "      <td>451</td>\n",
              "      <td>0</td>\n",
              "      <td>UDP</td>\n",
              "      <td>3</td>\n",
              "      <td>143928631</td>\n",
              "      <td>3917</td>\n",
              "      <td>0</td>\n",
              "      <td>0.0</td>\n",
              "      <td>0.0</td>\n",
              "      <td>0</td>\n",
              "    </tr>\n",
              "    <tr>\n",
              "      <th>1</th>\n",
              "      <td>11605</td>\n",
              "      <td>1</td>\n",
              "      <td>10.0.0.1</td>\n",
              "      <td>10.0.0.8</td>\n",
              "      <td>126395</td>\n",
              "      <td>134737070</td>\n",
              "      <td>280</td>\n",
              "      <td>734000000</td>\n",
              "      <td>2.810000e+11</td>\n",
              "      <td>2</td>\n",
              "      <td>...</td>\n",
              "      <td>451</td>\n",
              "      <td>0</td>\n",
              "      <td>UDP</td>\n",
              "      <td>4</td>\n",
              "      <td>3842</td>\n",
              "      <td>3520</td>\n",
              "      <td>0</td>\n",
              "      <td>0.0</td>\n",
              "      <td>0.0</td>\n",
              "      <td>0</td>\n",
              "    </tr>\n",
              "    <tr>\n",
              "      <th>2</th>\n",
              "      <td>11425</td>\n",
              "      <td>1</td>\n",
              "      <td>10.0.0.2</td>\n",
              "      <td>10.0.0.8</td>\n",
              "      <td>90333</td>\n",
              "      <td>96294978</td>\n",
              "      <td>200</td>\n",
              "      <td>744000000</td>\n",
              "      <td>2.010000e+11</td>\n",
              "      <td>3</td>\n",
              "      <td>...</td>\n",
              "      <td>451</td>\n",
              "      <td>0</td>\n",
              "      <td>UDP</td>\n",
              "      <td>1</td>\n",
              "      <td>3795</td>\n",
              "      <td>1242</td>\n",
              "      <td>0</td>\n",
              "      <td>0.0</td>\n",
              "      <td>0.0</td>\n",
              "      <td>0</td>\n",
              "    </tr>\n",
              "    <tr>\n",
              "      <th>3</th>\n",
              "      <td>11425</td>\n",
              "      <td>1</td>\n",
              "      <td>10.0.0.2</td>\n",
              "      <td>10.0.0.8</td>\n",
              "      <td>90333</td>\n",
              "      <td>96294978</td>\n",
              "      <td>200</td>\n",
              "      <td>744000000</td>\n",
              "      <td>2.010000e+11</td>\n",
              "      <td>3</td>\n",
              "      <td>...</td>\n",
              "      <td>451</td>\n",
              "      <td>0</td>\n",
              "      <td>UDP</td>\n",
              "      <td>2</td>\n",
              "      <td>3688</td>\n",
              "      <td>1492</td>\n",
              "      <td>0</td>\n",
              "      <td>0.0</td>\n",
              "      <td>0.0</td>\n",
              "      <td>0</td>\n",
              "    </tr>\n",
              "    <tr>\n",
              "      <th>4</th>\n",
              "      <td>11425</td>\n",
              "      <td>1</td>\n",
              "      <td>10.0.0.2</td>\n",
              "      <td>10.0.0.8</td>\n",
              "      <td>90333</td>\n",
              "      <td>96294978</td>\n",
              "      <td>200</td>\n",
              "      <td>744000000</td>\n",
              "      <td>2.010000e+11</td>\n",
              "      <td>3</td>\n",
              "      <td>...</td>\n",
              "      <td>451</td>\n",
              "      <td>0</td>\n",
              "      <td>UDP</td>\n",
              "      <td>3</td>\n",
              "      <td>3413</td>\n",
              "      <td>3665</td>\n",
              "      <td>0</td>\n",
              "      <td>0.0</td>\n",
              "      <td>0.0</td>\n",
              "      <td>0</td>\n",
              "    </tr>\n",
              "    <tr>\n",
              "      <th>...</th>\n",
              "      <td>...</td>\n",
              "      <td>...</td>\n",
              "      <td>...</td>\n",
              "      <td>...</td>\n",
              "      <td>...</td>\n",
              "      <td>...</td>\n",
              "      <td>...</td>\n",
              "      <td>...</td>\n",
              "      <td>...</td>\n",
              "      <td>...</td>\n",
              "      <td>...</td>\n",
              "      <td>...</td>\n",
              "      <td>...</td>\n",
              "      <td>...</td>\n",
              "      <td>...</td>\n",
              "      <td>...</td>\n",
              "      <td>...</td>\n",
              "      <td>...</td>\n",
              "      <td>...</td>\n",
              "      <td>...</td>\n",
              "      <td>...</td>\n",
              "    </tr>\n",
              "    <tr>\n",
              "      <th>104340</th>\n",
              "      <td>5262</td>\n",
              "      <td>3</td>\n",
              "      <td>10.0.0.5</td>\n",
              "      <td>10.0.0.7</td>\n",
              "      <td>79</td>\n",
              "      <td>7742</td>\n",
              "      <td>81</td>\n",
              "      <td>842000000</td>\n",
              "      <td>8.184200e+10</td>\n",
              "      <td>5</td>\n",
              "      <td>...</td>\n",
              "      <td>0</td>\n",
              "      <td>0</td>\n",
              "      <td>ICMP</td>\n",
              "      <td>1</td>\n",
              "      <td>15209</td>\n",
              "      <td>12720</td>\n",
              "      <td>1</td>\n",
              "      <td>1.0</td>\n",
              "      <td>2.0</td>\n",
              "      <td>0</td>\n",
              "    </tr>\n",
              "    <tr>\n",
              "      <th>104341</th>\n",
              "      <td>5262</td>\n",
              "      <td>3</td>\n",
              "      <td>10.0.0.5</td>\n",
              "      <td>10.0.0.7</td>\n",
              "      <td>79</td>\n",
              "      <td>7742</td>\n",
              "      <td>81</td>\n",
              "      <td>842000000</td>\n",
              "      <td>8.184200e+10</td>\n",
              "      <td>5</td>\n",
              "      <td>...</td>\n",
              "      <td>0</td>\n",
              "      <td>0</td>\n",
              "      <td>ICMP</td>\n",
              "      <td>3</td>\n",
              "      <td>15099</td>\n",
              "      <td>14693</td>\n",
              "      <td>1</td>\n",
              "      <td>1.0</td>\n",
              "      <td>2.0</td>\n",
              "      <td>0</td>\n",
              "    </tr>\n",
              "    <tr>\n",
              "      <th>104342</th>\n",
              "      <td>5262</td>\n",
              "      <td>3</td>\n",
              "      <td>10.0.0.11</td>\n",
              "      <td>10.0.0.5</td>\n",
              "      <td>31</td>\n",
              "      <td>3038</td>\n",
              "      <td>31</td>\n",
              "      <td>805000000</td>\n",
              "      <td>3.180500e+10</td>\n",
              "      <td>5</td>\n",
              "      <td>...</td>\n",
              "      <td>1</td>\n",
              "      <td>0</td>\n",
              "      <td>ICMP</td>\n",
              "      <td>2</td>\n",
              "      <td>3409</td>\n",
              "      <td>3731</td>\n",
              "      <td>0</td>\n",
              "      <td>0.0</td>\n",
              "      <td>0.0</td>\n",
              "      <td>0</td>\n",
              "    </tr>\n",
              "    <tr>\n",
              "      <th>104343</th>\n",
              "      <td>5262</td>\n",
              "      <td>3</td>\n",
              "      <td>10.0.0.11</td>\n",
              "      <td>10.0.0.5</td>\n",
              "      <td>31</td>\n",
              "      <td>3038</td>\n",
              "      <td>31</td>\n",
              "      <td>805000000</td>\n",
              "      <td>3.180500e+10</td>\n",
              "      <td>5</td>\n",
              "      <td>...</td>\n",
              "      <td>1</td>\n",
              "      <td>0</td>\n",
              "      <td>ICMP</td>\n",
              "      <td>1</td>\n",
              "      <td>15209</td>\n",
              "      <td>12720</td>\n",
              "      <td>1</td>\n",
              "      <td>1.0</td>\n",
              "      <td>2.0</td>\n",
              "      <td>0</td>\n",
              "    </tr>\n",
              "    <tr>\n",
              "      <th>104344</th>\n",
              "      <td>5262</td>\n",
              "      <td>3</td>\n",
              "      <td>10.0.0.11</td>\n",
              "      <td>10.0.0.5</td>\n",
              "      <td>31</td>\n",
              "      <td>3038</td>\n",
              "      <td>31</td>\n",
              "      <td>805000000</td>\n",
              "      <td>3.180500e+10</td>\n",
              "      <td>5</td>\n",
              "      <td>...</td>\n",
              "      <td>1</td>\n",
              "      <td>0</td>\n",
              "      <td>ICMP</td>\n",
              "      <td>3</td>\n",
              "      <td>15099</td>\n",
              "      <td>14693</td>\n",
              "      <td>1</td>\n",
              "      <td>1.0</td>\n",
              "      <td>2.0</td>\n",
              "      <td>0</td>\n",
              "    </tr>\n",
              "  </tbody>\n",
              "</table>\n",
              "<p>104345 rows × 23 columns</p>\n",
              "</div>\n",
              "      <button class=\"colab-df-convert\" onclick=\"convertToInteractive('df-c9e09803-5fab-4f57-9c0a-c560acfb23d5')\"\n",
              "              title=\"Convert this dataframe to an interactive table.\"\n",
              "              style=\"display:none;\">\n",
              "        \n",
              "  <svg xmlns=\"http://www.w3.org/2000/svg\" height=\"24px\"viewBox=\"0 0 24 24\"\n",
              "       width=\"24px\">\n",
              "    <path d=\"M0 0h24v24H0V0z\" fill=\"none\"/>\n",
              "    <path d=\"M18.56 5.44l.94 2.06.94-2.06 2.06-.94-2.06-.94-.94-2.06-.94 2.06-2.06.94zm-11 1L8.5 8.5l.94-2.06 2.06-.94-2.06-.94L8.5 2.5l-.94 2.06-2.06.94zm10 10l.94 2.06.94-2.06 2.06-.94-2.06-.94-.94-2.06-.94 2.06-2.06.94z\"/><path d=\"M17.41 7.96l-1.37-1.37c-.4-.4-.92-.59-1.43-.59-.52 0-1.04.2-1.43.59L10.3 9.45l-7.72 7.72c-.78.78-.78 2.05 0 2.83L4 21.41c.39.39.9.59 1.41.59.51 0 1.02-.2 1.41-.59l7.78-7.78 2.81-2.81c.8-.78.8-2.07 0-2.86zM5.41 20L4 18.59l7.72-7.72 1.47 1.35L5.41 20z\"/>\n",
              "  </svg>\n",
              "      </button>\n",
              "      \n",
              "  <style>\n",
              "    .colab-df-container {\n",
              "      display:flex;\n",
              "      flex-wrap:wrap;\n",
              "      gap: 12px;\n",
              "    }\n",
              "\n",
              "    .colab-df-convert {\n",
              "      background-color: #E8F0FE;\n",
              "      border: none;\n",
              "      border-radius: 50%;\n",
              "      cursor: pointer;\n",
              "      display: none;\n",
              "      fill: #1967D2;\n",
              "      height: 32px;\n",
              "      padding: 0 0 0 0;\n",
              "      width: 32px;\n",
              "    }\n",
              "\n",
              "    .colab-df-convert:hover {\n",
              "      background-color: #E2EBFA;\n",
              "      box-shadow: 0px 1px 2px rgba(60, 64, 67, 0.3), 0px 1px 3px 1px rgba(60, 64, 67, 0.15);\n",
              "      fill: #174EA6;\n",
              "    }\n",
              "\n",
              "    [theme=dark] .colab-df-convert {\n",
              "      background-color: #3B4455;\n",
              "      fill: #D2E3FC;\n",
              "    }\n",
              "\n",
              "    [theme=dark] .colab-df-convert:hover {\n",
              "      background-color: #434B5C;\n",
              "      box-shadow: 0px 1px 3px 1px rgba(0, 0, 0, 0.15);\n",
              "      filter: drop-shadow(0px 1px 2px rgba(0, 0, 0, 0.3));\n",
              "      fill: #FFFFFF;\n",
              "    }\n",
              "  </style>\n",
              "\n",
              "      <script>\n",
              "        const buttonEl =\n",
              "          document.querySelector('#df-c9e09803-5fab-4f57-9c0a-c560acfb23d5 button.colab-df-convert');\n",
              "        buttonEl.style.display =\n",
              "          google.colab.kernel.accessAllowed ? 'block' : 'none';\n",
              "\n",
              "        async function convertToInteractive(key) {\n",
              "          const element = document.querySelector('#df-c9e09803-5fab-4f57-9c0a-c560acfb23d5');\n",
              "          const dataTable =\n",
              "            await google.colab.kernel.invokeFunction('convertToInteractive',\n",
              "                                                     [key], {});\n",
              "          if (!dataTable) return;\n",
              "\n",
              "          const docLinkHtml = 'Like what you see? Visit the ' +\n",
              "            '<a target=\"_blank\" href=https://colab.research.google.com/notebooks/data_table.ipynb>data table notebook</a>'\n",
              "            + ' to learn more about interactive tables.';\n",
              "          element.innerHTML = '';\n",
              "          dataTable['output_type'] = 'display_data';\n",
              "          await google.colab.output.renderOutput(dataTable, element);\n",
              "          const docLink = document.createElement('div');\n",
              "          docLink.innerHTML = docLinkHtml;\n",
              "          element.appendChild(docLink);\n",
              "        }\n",
              "      </script>\n",
              "    </div>\n",
              "  </div>\n",
              "  "
            ]
          },
          "metadata": {},
          "execution_count": 13
        }
      ]
    },
    {
      "cell_type": "markdown",
      "source": [
        "# **DATA** **PREPROCESSING**"
      ],
      "metadata": {
        "id": "iBrX3F99E6PR"
      }
    },
    {
      "cell_type": "code",
      "source": [
        "df.info()\n"
      ],
      "metadata": {
        "colab": {
          "base_uri": "https://localhost:8080/"
        },
        "id": "yyFhH-WmExE2",
        "outputId": "173e53cf-4db9-4a9b-db1f-a2ed78d8d1b5"
      },
      "execution_count": null,
      "outputs": [
        {
          "output_type": "stream",
          "name": "stdout",
          "text": [
            "<class 'pandas.core.frame.DataFrame'>\n",
            "RangeIndex: 104345 entries, 0 to 104344\n",
            "Data columns (total 23 columns):\n",
            " #   Column       Non-Null Count   Dtype  \n",
            "---  ------       --------------   -----  \n",
            " 0   dt           104345 non-null  int64  \n",
            " 1   switch       104345 non-null  int64  \n",
            " 2   src          104345 non-null  object \n",
            " 3   dst          104345 non-null  object \n",
            " 4   pktcount     104345 non-null  int64  \n",
            " 5   bytecount    104345 non-null  int64  \n",
            " 6   dur          104345 non-null  int64  \n",
            " 7   dur_nsec     104345 non-null  int64  \n",
            " 8   tot_dur      104345 non-null  float64\n",
            " 9   flows        104345 non-null  int64  \n",
            " 10  packetins    104345 non-null  int64  \n",
            " 11  pktperflow   104345 non-null  int64  \n",
            " 12  byteperflow  104345 non-null  int64  \n",
            " 13  pktrate      104345 non-null  int64  \n",
            " 14  Pairflow     104345 non-null  int64  \n",
            " 15  Protocol     104345 non-null  object \n",
            " 16  port_no      104345 non-null  int64  \n",
            " 17  tx_bytes     104345 non-null  int64  \n",
            " 18  rx_bytes     104345 non-null  int64  \n",
            " 19  tx_kbps      104345 non-null  int64  \n",
            " 20  rx_kbps      103839 non-null  float64\n",
            " 21  tot_kbps     103839 non-null  float64\n",
            " 22  label        104345 non-null  int64  \n",
            "dtypes: float64(3), int64(17), object(3)\n",
            "memory usage: 18.3+ MB\n"
          ]
        }
      ]
    },
    {
      "cell_type": "code",
      "source": [
        "df.describe()"
      ],
      "metadata": {
        "colab": {
          "base_uri": "https://localhost:8080/",
          "height": 364
        },
        "id": "DuAfUnG6FHaG",
        "outputId": "1d111b3c-b43f-4b1f-ed17-f4b3ae398bd7"
      },
      "execution_count": null,
      "outputs": [
        {
          "output_type": "execute_result",
          "data": {
            "text/plain": [
              "                  dt         switch       pktcount     bytecount  \\\n",
              "count  104345.000000  104345.000000  104345.000000  1.043450e+05   \n",
              "mean    17927.514169       4.214260   52860.954746  3.818660e+07   \n",
              "std     11977.642655       1.956327   52023.241460  4.877748e+07   \n",
              "min      2488.000000       1.000000       0.000000  0.000000e+00   \n",
              "25%      7098.000000       3.000000     808.000000  7.957600e+04   \n",
              "50%     11905.000000       4.000000   42828.000000  6.471930e+06   \n",
              "75%     29952.000000       5.000000   94796.000000  7.620354e+07   \n",
              "max     42935.000000      10.000000  260006.000000  1.471280e+08   \n",
              "\n",
              "                 dur      dur_nsec       tot_dur          flows  \\\n",
              "count  104345.000000  1.043450e+05  1.043450e+05  104345.000000   \n",
              "mean      321.497398  4.613880e+08  3.218865e+11       5.654234   \n",
              "std       283.518232  2.770019e+08  2.834029e+11       2.950036   \n",
              "min         0.000000  0.000000e+00  0.000000e+00       2.000000   \n",
              "25%       127.000000  2.340000e+08  1.270000e+11       3.000000   \n",
              "50%       251.000000  4.180000e+08  2.520000e+11       5.000000   \n",
              "75%       412.000000  7.030000e+08  4.130000e+11       7.000000   \n",
              "max      1881.000000  9.990000e+08  1.880000e+12      17.000000   \n",
              "\n",
              "           packetins     pktperflow   byteperflow        pktrate  \\\n",
              "count  104345.000000  104345.000000  1.043450e+05  104345.000000   \n",
              "mean     5200.383468    6381.715291  4.716150e+06     212.210676   \n",
              "std      5257.001450    7404.777808  7.560116e+06     246.855123   \n",
              "min         4.000000 -130933.000000 -1.464426e+08   -4365.000000   \n",
              "25%      1943.000000      29.000000  2.842000e+03       0.000000   \n",
              "50%      3024.000000    8305.000000  5.521680e+05     276.000000   \n",
              "75%      7462.000000   10017.000000  9.728112e+06     333.000000   \n",
              "max     25224.000000   19190.000000  1.495387e+07     639.000000   \n",
              "\n",
              "            Pairflow        port_no      tx_bytes      rx_bytes  \\\n",
              "count  104345.000000  104345.000000  1.043450e+05  1.043450e+05   \n",
              "mean        0.600987       2.331094  9.325264e+07  9.328039e+07   \n",
              "std         0.489698       1.084333  1.519380e+08  1.330004e+08   \n",
              "min         0.000000       1.000000  2.527000e+03  8.560000e+02   \n",
              "25%         0.000000       1.000000  4.743000e+03  3.539000e+03   \n",
              "50%         1.000000       2.000000  4.219610e+06  1.338339e+07   \n",
              "75%         1.000000       3.000000  1.356398e+08  1.439277e+08   \n",
              "max         1.000000       5.000000  1.269982e+09  9.905962e+08   \n",
              "\n",
              "             tx_kbps        rx_kbps       tot_kbps          label  \n",
              "count  104345.000000  103839.000000  103839.000000  104345.000000  \n",
              "mean      998.899756    1003.811420    2007.578742       0.390857  \n",
              "std      2423.471618    2054.887034    3144.437173       0.487945  \n",
              "min         0.000000       0.000000       0.000000       0.000000  \n",
              "25%         0.000000       0.000000       0.000000       0.000000  \n",
              "50%         0.000000       0.000000       4.000000       0.000000  \n",
              "75%       251.000000     557.000000    3838.000000       1.000000  \n",
              "max     20580.000000   16577.000000   20580.000000       1.000000  "
            ],
            "text/html": [
              "\n",
              "  <div id=\"df-a6b7c9db-5062-4bd5-80f2-fc501173866e\">\n",
              "    <div class=\"colab-df-container\">\n",
              "      <div>\n",
              "<style scoped>\n",
              "    .dataframe tbody tr th:only-of-type {\n",
              "        vertical-align: middle;\n",
              "    }\n",
              "\n",
              "    .dataframe tbody tr th {\n",
              "        vertical-align: top;\n",
              "    }\n",
              "\n",
              "    .dataframe thead th {\n",
              "        text-align: right;\n",
              "    }\n",
              "</style>\n",
              "<table border=\"1\" class=\"dataframe\">\n",
              "  <thead>\n",
              "    <tr style=\"text-align: right;\">\n",
              "      <th></th>\n",
              "      <th>dt</th>\n",
              "      <th>switch</th>\n",
              "      <th>pktcount</th>\n",
              "      <th>bytecount</th>\n",
              "      <th>dur</th>\n",
              "      <th>dur_nsec</th>\n",
              "      <th>tot_dur</th>\n",
              "      <th>flows</th>\n",
              "      <th>packetins</th>\n",
              "      <th>pktperflow</th>\n",
              "      <th>byteperflow</th>\n",
              "      <th>pktrate</th>\n",
              "      <th>Pairflow</th>\n",
              "      <th>port_no</th>\n",
              "      <th>tx_bytes</th>\n",
              "      <th>rx_bytes</th>\n",
              "      <th>tx_kbps</th>\n",
              "      <th>rx_kbps</th>\n",
              "      <th>tot_kbps</th>\n",
              "      <th>label</th>\n",
              "    </tr>\n",
              "  </thead>\n",
              "  <tbody>\n",
              "    <tr>\n",
              "      <th>count</th>\n",
              "      <td>104345.000000</td>\n",
              "      <td>104345.000000</td>\n",
              "      <td>104345.000000</td>\n",
              "      <td>1.043450e+05</td>\n",
              "      <td>104345.000000</td>\n",
              "      <td>1.043450e+05</td>\n",
              "      <td>1.043450e+05</td>\n",
              "      <td>104345.000000</td>\n",
              "      <td>104345.000000</td>\n",
              "      <td>104345.000000</td>\n",
              "      <td>1.043450e+05</td>\n",
              "      <td>104345.000000</td>\n",
              "      <td>104345.000000</td>\n",
              "      <td>104345.000000</td>\n",
              "      <td>1.043450e+05</td>\n",
              "      <td>1.043450e+05</td>\n",
              "      <td>104345.000000</td>\n",
              "      <td>103839.000000</td>\n",
              "      <td>103839.000000</td>\n",
              "      <td>104345.000000</td>\n",
              "    </tr>\n",
              "    <tr>\n",
              "      <th>mean</th>\n",
              "      <td>17927.514169</td>\n",
              "      <td>4.214260</td>\n",
              "      <td>52860.954746</td>\n",
              "      <td>3.818660e+07</td>\n",
              "      <td>321.497398</td>\n",
              "      <td>4.613880e+08</td>\n",
              "      <td>3.218865e+11</td>\n",
              "      <td>5.654234</td>\n",
              "      <td>5200.383468</td>\n",
              "      <td>6381.715291</td>\n",
              "      <td>4.716150e+06</td>\n",
              "      <td>212.210676</td>\n",
              "      <td>0.600987</td>\n",
              "      <td>2.331094</td>\n",
              "      <td>9.325264e+07</td>\n",
              "      <td>9.328039e+07</td>\n",
              "      <td>998.899756</td>\n",
              "      <td>1003.811420</td>\n",
              "      <td>2007.578742</td>\n",
              "      <td>0.390857</td>\n",
              "    </tr>\n",
              "    <tr>\n",
              "      <th>std</th>\n",
              "      <td>11977.642655</td>\n",
              "      <td>1.956327</td>\n",
              "      <td>52023.241460</td>\n",
              "      <td>4.877748e+07</td>\n",
              "      <td>283.518232</td>\n",
              "      <td>2.770019e+08</td>\n",
              "      <td>2.834029e+11</td>\n",
              "      <td>2.950036</td>\n",
              "      <td>5257.001450</td>\n",
              "      <td>7404.777808</td>\n",
              "      <td>7.560116e+06</td>\n",
              "      <td>246.855123</td>\n",
              "      <td>0.489698</td>\n",
              "      <td>1.084333</td>\n",
              "      <td>1.519380e+08</td>\n",
              "      <td>1.330004e+08</td>\n",
              "      <td>2423.471618</td>\n",
              "      <td>2054.887034</td>\n",
              "      <td>3144.437173</td>\n",
              "      <td>0.487945</td>\n",
              "    </tr>\n",
              "    <tr>\n",
              "      <th>min</th>\n",
              "      <td>2488.000000</td>\n",
              "      <td>1.000000</td>\n",
              "      <td>0.000000</td>\n",
              "      <td>0.000000e+00</td>\n",
              "      <td>0.000000</td>\n",
              "      <td>0.000000e+00</td>\n",
              "      <td>0.000000e+00</td>\n",
              "      <td>2.000000</td>\n",
              "      <td>4.000000</td>\n",
              "      <td>-130933.000000</td>\n",
              "      <td>-1.464426e+08</td>\n",
              "      <td>-4365.000000</td>\n",
              "      <td>0.000000</td>\n",
              "      <td>1.000000</td>\n",
              "      <td>2.527000e+03</td>\n",
              "      <td>8.560000e+02</td>\n",
              "      <td>0.000000</td>\n",
              "      <td>0.000000</td>\n",
              "      <td>0.000000</td>\n",
              "      <td>0.000000</td>\n",
              "    </tr>\n",
              "    <tr>\n",
              "      <th>25%</th>\n",
              "      <td>7098.000000</td>\n",
              "      <td>3.000000</td>\n",
              "      <td>808.000000</td>\n",
              "      <td>7.957600e+04</td>\n",
              "      <td>127.000000</td>\n",
              "      <td>2.340000e+08</td>\n",
              "      <td>1.270000e+11</td>\n",
              "      <td>3.000000</td>\n",
              "      <td>1943.000000</td>\n",
              "      <td>29.000000</td>\n",
              "      <td>2.842000e+03</td>\n",
              "      <td>0.000000</td>\n",
              "      <td>0.000000</td>\n",
              "      <td>1.000000</td>\n",
              "      <td>4.743000e+03</td>\n",
              "      <td>3.539000e+03</td>\n",
              "      <td>0.000000</td>\n",
              "      <td>0.000000</td>\n",
              "      <td>0.000000</td>\n",
              "      <td>0.000000</td>\n",
              "    </tr>\n",
              "    <tr>\n",
              "      <th>50%</th>\n",
              "      <td>11905.000000</td>\n",
              "      <td>4.000000</td>\n",
              "      <td>42828.000000</td>\n",
              "      <td>6.471930e+06</td>\n",
              "      <td>251.000000</td>\n",
              "      <td>4.180000e+08</td>\n",
              "      <td>2.520000e+11</td>\n",
              "      <td>5.000000</td>\n",
              "      <td>3024.000000</td>\n",
              "      <td>8305.000000</td>\n",
              "      <td>5.521680e+05</td>\n",
              "      <td>276.000000</td>\n",
              "      <td>1.000000</td>\n",
              "      <td>2.000000</td>\n",
              "      <td>4.219610e+06</td>\n",
              "      <td>1.338339e+07</td>\n",
              "      <td>0.000000</td>\n",
              "      <td>0.000000</td>\n",
              "      <td>4.000000</td>\n",
              "      <td>0.000000</td>\n",
              "    </tr>\n",
              "    <tr>\n",
              "      <th>75%</th>\n",
              "      <td>29952.000000</td>\n",
              "      <td>5.000000</td>\n",
              "      <td>94796.000000</td>\n",
              "      <td>7.620354e+07</td>\n",
              "      <td>412.000000</td>\n",
              "      <td>7.030000e+08</td>\n",
              "      <td>4.130000e+11</td>\n",
              "      <td>7.000000</td>\n",
              "      <td>7462.000000</td>\n",
              "      <td>10017.000000</td>\n",
              "      <td>9.728112e+06</td>\n",
              "      <td>333.000000</td>\n",
              "      <td>1.000000</td>\n",
              "      <td>3.000000</td>\n",
              "      <td>1.356398e+08</td>\n",
              "      <td>1.439277e+08</td>\n",
              "      <td>251.000000</td>\n",
              "      <td>557.000000</td>\n",
              "      <td>3838.000000</td>\n",
              "      <td>1.000000</td>\n",
              "    </tr>\n",
              "    <tr>\n",
              "      <th>max</th>\n",
              "      <td>42935.000000</td>\n",
              "      <td>10.000000</td>\n",
              "      <td>260006.000000</td>\n",
              "      <td>1.471280e+08</td>\n",
              "      <td>1881.000000</td>\n",
              "      <td>9.990000e+08</td>\n",
              "      <td>1.880000e+12</td>\n",
              "      <td>17.000000</td>\n",
              "      <td>25224.000000</td>\n",
              "      <td>19190.000000</td>\n",
              "      <td>1.495387e+07</td>\n",
              "      <td>639.000000</td>\n",
              "      <td>1.000000</td>\n",
              "      <td>5.000000</td>\n",
              "      <td>1.269982e+09</td>\n",
              "      <td>9.905962e+08</td>\n",
              "      <td>20580.000000</td>\n",
              "      <td>16577.000000</td>\n",
              "      <td>20580.000000</td>\n",
              "      <td>1.000000</td>\n",
              "    </tr>\n",
              "  </tbody>\n",
              "</table>\n",
              "</div>\n",
              "      <button class=\"colab-df-convert\" onclick=\"convertToInteractive('df-a6b7c9db-5062-4bd5-80f2-fc501173866e')\"\n",
              "              title=\"Convert this dataframe to an interactive table.\"\n",
              "              style=\"display:none;\">\n",
              "        \n",
              "  <svg xmlns=\"http://www.w3.org/2000/svg\" height=\"24px\"viewBox=\"0 0 24 24\"\n",
              "       width=\"24px\">\n",
              "    <path d=\"M0 0h24v24H0V0z\" fill=\"none\"/>\n",
              "    <path d=\"M18.56 5.44l.94 2.06.94-2.06 2.06-.94-2.06-.94-.94-2.06-.94 2.06-2.06.94zm-11 1L8.5 8.5l.94-2.06 2.06-.94-2.06-.94L8.5 2.5l-.94 2.06-2.06.94zm10 10l.94 2.06.94-2.06 2.06-.94-2.06-.94-.94-2.06-.94 2.06-2.06.94z\"/><path d=\"M17.41 7.96l-1.37-1.37c-.4-.4-.92-.59-1.43-.59-.52 0-1.04.2-1.43.59L10.3 9.45l-7.72 7.72c-.78.78-.78 2.05 0 2.83L4 21.41c.39.39.9.59 1.41.59.51 0 1.02-.2 1.41-.59l7.78-7.78 2.81-2.81c.8-.78.8-2.07 0-2.86zM5.41 20L4 18.59l7.72-7.72 1.47 1.35L5.41 20z\"/>\n",
              "  </svg>\n",
              "      </button>\n",
              "      \n",
              "  <style>\n",
              "    .colab-df-container {\n",
              "      display:flex;\n",
              "      flex-wrap:wrap;\n",
              "      gap: 12px;\n",
              "    }\n",
              "\n",
              "    .colab-df-convert {\n",
              "      background-color: #E8F0FE;\n",
              "      border: none;\n",
              "      border-radius: 50%;\n",
              "      cursor: pointer;\n",
              "      display: none;\n",
              "      fill: #1967D2;\n",
              "      height: 32px;\n",
              "      padding: 0 0 0 0;\n",
              "      width: 32px;\n",
              "    }\n",
              "\n",
              "    .colab-df-convert:hover {\n",
              "      background-color: #E2EBFA;\n",
              "      box-shadow: 0px 1px 2px rgba(60, 64, 67, 0.3), 0px 1px 3px 1px rgba(60, 64, 67, 0.15);\n",
              "      fill: #174EA6;\n",
              "    }\n",
              "\n",
              "    [theme=dark] .colab-df-convert {\n",
              "      background-color: #3B4455;\n",
              "      fill: #D2E3FC;\n",
              "    }\n",
              "\n",
              "    [theme=dark] .colab-df-convert:hover {\n",
              "      background-color: #434B5C;\n",
              "      box-shadow: 0px 1px 3px 1px rgba(0, 0, 0, 0.15);\n",
              "      filter: drop-shadow(0px 1px 2px rgba(0, 0, 0, 0.3));\n",
              "      fill: #FFFFFF;\n",
              "    }\n",
              "  </style>\n",
              "\n",
              "      <script>\n",
              "        const buttonEl =\n",
              "          document.querySelector('#df-a6b7c9db-5062-4bd5-80f2-fc501173866e button.colab-df-convert');\n",
              "        buttonEl.style.display =\n",
              "          google.colab.kernel.accessAllowed ? 'block' : 'none';\n",
              "\n",
              "        async function convertToInteractive(key) {\n",
              "          const element = document.querySelector('#df-a6b7c9db-5062-4bd5-80f2-fc501173866e');\n",
              "          const dataTable =\n",
              "            await google.colab.kernel.invokeFunction('convertToInteractive',\n",
              "                                                     [key], {});\n",
              "          if (!dataTable) return;\n",
              "\n",
              "          const docLinkHtml = 'Like what you see? Visit the ' +\n",
              "            '<a target=\"_blank\" href=https://colab.research.google.com/notebooks/data_table.ipynb>data table notebook</a>'\n",
              "            + ' to learn more about interactive tables.';\n",
              "          element.innerHTML = '';\n",
              "          dataTable['output_type'] = 'display_data';\n",
              "          await google.colab.output.renderOutput(dataTable, element);\n",
              "          const docLink = document.createElement('div');\n",
              "          docLink.innerHTML = docLinkHtml;\n",
              "          element.appendChild(docLink);\n",
              "        }\n",
              "      </script>\n",
              "    </div>\n",
              "  </div>\n",
              "  "
            ]
          },
          "metadata": {},
          "execution_count": 15
        }
      ]
    },
    {
      "cell_type": "code",
      "source": [
        "column_names= df.columns\n",
        "column_names"
      ],
      "metadata": {
        "colab": {
          "base_uri": "https://localhost:8080/"
        },
        "id": "Vl1rWNBpFLxe",
        "outputId": "94e061e5-c64f-444b-f038-b87d0c9a9c61"
      },
      "execution_count": null,
      "outputs": [
        {
          "output_type": "execute_result",
          "data": {
            "text/plain": [
              "Index(['dt', 'switch', 'src', 'dst', 'pktcount', 'bytecount', 'dur',\n",
              "       'dur_nsec', 'tot_dur', 'flows', 'packetins', 'pktperflow',\n",
              "       'byteperflow', 'pktrate', 'Pairflow', 'Protocol', 'port_no', 'tx_bytes',\n",
              "       'rx_bytes', 'tx_kbps', 'rx_kbps', 'tot_kbps', 'label'],\n",
              "      dtype='object')"
            ]
          },
          "metadata": {},
          "execution_count": 16
        }
      ]
    },
    {
      "cell_type": "code",
      "source": [
        "df.isnull().sum().plot.bar()\n",
        "plt.title(\"NULL Values for each column \")\n",
        "plt.xlabel(\"Column names\")\n",
        "plt.ylabel(\"Count\")"
      ],
      "metadata": {
        "colab": {
          "base_uri": "https://localhost:8080/",
          "height": 558
        },
        "id": "4FBZCdvFFPsH",
        "outputId": "a6929d08-a839-4053-fd4a-7dead3124b02"
      },
      "execution_count": null,
      "outputs": [
        {
          "output_type": "execute_result",
          "data": {
            "text/plain": [
              "Text(0, 0.5, 'Count')"
            ]
          },
          "metadata": {},
          "execution_count": 17
        },
        {
          "output_type": "display_data",
          "data": {
            "text/plain": [
              "<Figure size 640x480 with 1 Axes>"
            ],
            "image/png": "[encoded data removed]"
          },
          "metadata": {}
        }
      ]
    },
    {
      "cell_type": "code",
      "source": [
        "# Dropping rows having null values\n",
        "df=df.dropna()"
      ],
      "metadata": {
        "id": "Q5-NCyAOFX4u"
      },
      "execution_count": null,
      "outputs": []
    },
    {
      "cell_type": "code",
      "source": [
        "df.info()"
      ],
      "metadata": {
        "id": "_m-QklcaFi8Y",
        "colab": {
          "base_uri": "https://localhost:8080/"
        },
        "outputId": "12af2779-11f4-4961-eaff-e81cb1113cfc"
      },
      "execution_count": null,
      "outputs": [
        {
          "output_type": "stream",
          "name": "stdout",
          "text": [
            "<class 'pandas.core.frame.DataFrame'>\n",
            "Int64Index: 103839 entries, 0 to 104344\n",
            "Data columns (total 23 columns):\n",
            " #   Column       Non-Null Count   Dtype  \n",
            "---  ------       --------------   -----  \n",
            " 0   dt           103839 non-null  int64  \n",
            " 1   switch       103839 non-null  int64  \n",
            " 2   src          103839 non-null  object \n",
            " 3   dst          103839 non-null  object \n",
            " 4   pktcount     103839 non-null  int64  \n",
            " 5   bytecount    103839 non-null  int64  \n",
            " 6   dur          103839 non-null  int64  \n",
            " 7   dur_nsec     103839 non-null  int64  \n",
            " 8   tot_dur      103839 non-null  float64\n",
            " 9   flows        103839 non-null  int64  \n",
            " 10  packetins    103839 non-null  int64  \n",
            " 11  pktperflow   103839 non-null  int64  \n",
            " 12  byteperflow  103839 non-null  int64  \n",
            " 13  pktrate      103839 non-null  int64  \n",
            " 14  Pairflow     103839 non-null  int64  \n",
            " 15  Protocol     103839 non-null  object \n",
            " 16  port_no      103839 non-null  int64  \n",
            " 17  tx_bytes     103839 non-null  int64  \n",
            " 18  rx_bytes     103839 non-null  int64  \n",
            " 19  tx_kbps      103839 non-null  int64  \n",
            " 20  rx_kbps      103839 non-null  float64\n",
            " 21  tot_kbps     103839 non-null  float64\n",
            " 22  label        103839 non-null  int64  \n",
            "dtypes: float64(3), int64(17), object(3)\n",
            "memory usage: 19.0+ MB\n"
          ]
        }
      ]
    },
    {
      "cell_type": "code",
      "source": [
        "# Getting unique destination \n",
        "uniq_dest=df['dst'].unique()\n",
        "total_dst=len(uniq_dest)\n",
        "print(\"Total destination : \", total_dst)\n",
        "print(\"Different destination : \",uniq_dest)"
      ],
      "metadata": {
        "colab": {
          "base_uri": "https://localhost:8080/"
        },
        "id": "H6b0sPYfFxer",
        "outputId": "e88212e4-18ae-4d1e-db0e-b1665a4f8d93"
      },
      "execution_count": null,
      "outputs": [
        {
          "output_type": "stream",
          "name": "stdout",
          "text": [
            "Total destination :  18\n",
            "Different destination :  ['10.0.0.8' '10.0.0.7' '10.0.0.3' '10.0.0.5' '10.0.0.10' '10.0.0.13'\n",
            " '10.0.0.1' '10.0.0.11' '10.0.0.2' '10.0.0.4' '10.0.0.9' '10.0.0.6'\n",
            " '10.0.0.14' '10.0.0.15' '10.0.0.12' '10.0.0.16' '10.0.0.17' '10.0.0.18']\n"
          ]
        }
      ]
    },
    {
      "cell_type": "code",
      "source": [
        "gp=df.groupby('label')['label'].count()\n",
        "plt.bar(list(gp.index),list(gp.values),color=['g','r'])\n",
        "plt.xticks(list(gp.index))\n",
        "plt.xlabel(\"Traffic label\")\n",
        "plt.ylabel(\"Count\")\n",
        "plt.title(\"Traffic for normal and Malicious traffic\")"
      ],
      "metadata": {
        "colab": {
          "base_uri": "https://localhost:8080/",
          "height": 489
        },
        "id": "g_DNlamYF4Gm",
        "outputId": "47fdd95f-4ad8-4956-fc9e-bd493547e24e"
      },
      "execution_count": null,
      "outputs": [
        {
          "output_type": "execute_result",
          "data": {
            "text/plain": [
              "Text(0.5, 1.0, 'Traffic for normal and Malicious traffic')"
            ]
          },
          "metadata": {},
          "execution_count": 21
        },
        {
          "output_type": "display_data",
          "data": {
            "text/plain": [
              "<Figure size 640x480 with 1 Axes>"
            ],
            "image/png": "[encoded data removed]"
          },
          "metadata": {}
        }
      ]
    },
    {
      "cell_type": "code",
      "source": [
        "ip_addr=df[df['label']==0].groupby('dst').count()['label'].index\n",
        "normal_traffic=df.groupby(['dst','label']).size().unstack().fillna(0)[0]\n",
        "attack_traffic=df.groupby(['dst','label']).size().unstack().fillna(0)[1]\n",
        "plt.barh(ip_addr,normal_traffic,color='g', label='Normal Traffic')\n",
        "plt.barh(ip_addr,attack_traffic,color='r', label='Attack Traffic')\n",
        "plt.legend()\n",
        "plt.xlabel(\"Count\")\n",
        "plt.ylabel(\"Destination IP Adresses\")\n",
        "plt.title(\"Attack and Normal traffic \")"
      ],
      "metadata": {
        "colab": {
          "base_uri": "https://localhost:8080/",
          "height": 489
        },
        "id": "9vB3RNYNHI7u",
        "outputId": "da154352-a710-4a8a-b6cd-4d0c44210a66"
      },
      "execution_count": null,
      "outputs": [
        {
          "output_type": "execute_result",
          "data": {
            "text/plain": [
              "Text(0.5, 1.0, 'Attack and Normal traffic ')"
            ]
          },
          "metadata": {},
          "execution_count": 22
        },
        {
          "output_type": "display_data",
          "data": {
            "text/plain": [
              "<Figure size 640x480 with 1 Axes>"
            ],
            "image/png": "[encoded data removed]"
          },
          "metadata": {}
        }
      ]
    },
    {
      "cell_type": "code",
      "source": [
        "# Columns containing object(string) type data\n",
        "# Port no column also does not do much so ignoring it also\n",
        "object_col= list(df.select_dtypes(include=['object']).columns)\n",
        "object_col=object_col+['port_no']\n",
        "print(object_col)\n",
        "data=df.drop(columns=object_col)\n",
        "\n",
        "# seperating data based on protocol\n",
        "udp_df = df[df['Protocol']=='UDP'].drop(columns=object_col)\n",
        "tcp_df = df[df['Protocol']=='TCP'].drop(columns=object_col)\n",
        "icmp_df = df[df['Protocol']=='ICMP'].drop(columns=object_col)\n",
        "icmp_df"
      ],
      "metadata": {
        "colab": {
          "base_uri": "https://localhost:8080/",
          "height": 505
        },
        "id": "BRX6jQrmHXzj",
        "outputId": "a2cb1df9-5752-44d7-956a-8dbeaad2fdb2"
      },
      "execution_count": null,
      "outputs": [
        {
          "output_type": "stream",
          "name": "stdout",
          "text": [
            "['src', 'dst', 'Protocol', 'port_no']\n"
          ]
        },
        {
          "output_type": "execute_result",
          "data": {
            "text/plain": [
              "           dt  switch  pktcount  bytecount  dur   dur_nsec       tot_dur  \\\n",
              "46116   26657       8        20       1960   21  201000000  2.120100e+10   \n",
              "46117   26657       8        20       1960   21  201000000  2.120100e+10   \n",
              "46118   26657       8        20       1960   21  201000000  2.120100e+10   \n",
              "46119   26657       8        20       1960   21  201000000  2.120100e+10   \n",
              "46120   26657       8        20       1960   21   43000000  2.104300e+10   \n",
              "...       ...     ...       ...        ...  ...        ...           ...   \n",
              "104340   5262       3        79       7742   81  842000000  8.184200e+10   \n",
              "104341   5262       3        79       7742   81  842000000  8.184200e+10   \n",
              "104342   5262       3        31       3038   31  805000000  3.180500e+10   \n",
              "104343   5262       3        31       3038   31  805000000  3.180500e+10   \n",
              "104344   5262       3        31       3038   31  805000000  3.180500e+10   \n",
              "\n",
              "        flows  packetins  pktperflow  byteperflow  pktrate  Pairflow  \\\n",
              "46116       3         10           0            0        0         1   \n",
              "46117       3         10           0            0        0         1   \n",
              "46118       3         10           0            0        0         1   \n",
              "46119       3         10           0            0        0         1   \n",
              "46120       3         10           0            0        0         1   \n",
              "...       ...        ...         ...          ...      ...       ...   \n",
              "104340      5         10          29         2842        0         0   \n",
              "104341      5         10          29         2842        0         0   \n",
              "104342      5         10          30         2940        1         0   \n",
              "104343      5         10          30         2940        1         0   \n",
              "104344      5         10          30         2940        1         0   \n",
              "\n",
              "        tx_bytes  rx_bytes  tx_kbps  rx_kbps  tot_kbps  label  \n",
              "46116       5327      5327        0      0.0       0.0      0  \n",
              "46117       5457      3104        0      0.0       0.0      0  \n",
              "46118       3227      3185        0      0.0       0.0      0  \n",
              "46119       3357      1122        0      0.0       0.0      0  \n",
              "46120       5327      5327        0      0.0       0.0      0  \n",
              "...          ...       ...      ...      ...       ...    ...  \n",
              "104340     15209     12720        1      1.0       2.0      0  \n",
              "104341     15099     14693        1      1.0       2.0      0  \n",
              "104342      3409      3731        0      0.0       0.0      0  \n",
              "104343     15209     12720        1      1.0       2.0      0  \n",
              "104344     15099     14693        1      1.0       2.0      0  \n",
              "\n",
              "[41321 rows x 19 columns]"
            ],
            "text/html": [
              "\n",
              "  <div id=\"df-12420e69-af53-4981-8d26-140df2a2c3a1\">\n",
              "    <div class=\"colab-df-container\">\n",
              "      <div>\n",
              "<style scoped>\n",
              "    .dataframe tbody tr th:only-of-type {\n",
              "        vertical-align: middle;\n",
              "    }\n",
              "\n",
              "    .dataframe tbody tr th {\n",
              "        vertical-align: top;\n",
              "    }\n",
              "\n",
              "    .dataframe thead th {\n",
              "        text-align: right;\n",
              "    }\n",
              "</style>\n",
              "<table border=\"1\" class=\"dataframe\">\n",
              "  <thead>\n",
              "    <tr style=\"text-align: right;\">\n",
              "      <th></th>\n",
              "      <th>dt</th>\n",
              "      <th>switch</th>\n",
              "      <th>pktcount</th>\n",
              "      <th>bytecount</th>\n",
              "      <th>dur</th>\n",
              "      <th>dur_nsec</th>\n",
              "      <th>tot_dur</th>\n",
              "      <th>flows</th>\n",
              "      <th>packetins</th>\n",
              "      <th>pktperflow</th>\n",
              "      <th>byteperflow</th>\n",
              "      <th>pktrate</th>\n",
              "      <th>Pairflow</th>\n",
              "      <th>tx_bytes</th>\n",
              "      <th>rx_bytes</th>\n",
              "      <th>tx_kbps</th>\n",
              "      <th>rx_kbps</th>\n",
              "      <th>tot_kbps</th>\n",
              "      <th>label</th>\n",
              "    </tr>\n",
              "  </thead>\n",
              "  <tbody>\n",
              "    <tr>\n",
              "      <th>46116</th>\n",
              "      <td>26657</td>\n",
              "      <td>8</td>\n",
              "      <td>20</td>\n",
              "      <td>1960</td>\n",
              "      <td>21</td>\n",
              "      <td>201000000</td>\n",
              "      <td>2.120100e+10</td>\n",
              "      <td>3</td>\n",
              "      <td>10</td>\n",
              "      <td>0</td>\n",
              "      <td>0</td>\n",
              "      <td>0</td>\n",
              "      <td>1</td>\n",
              "      <td>5327</td>\n",
              "      <td>5327</td>\n",
              "      <td>0</td>\n",
              "      <td>0.0</td>\n",
              "      <td>0.0</td>\n",
              "      <td>0</td>\n",
              "    </tr>\n",
              "    <tr>\n",
              "      <th>46117</th>\n",
              "      <td>26657</td>\n",
              "      <td>8</td>\n",
              "      <td>20</td>\n",
              "      <td>1960</td>\n",
              "      <td>21</td>\n",
              "      <td>201000000</td>\n",
              "      <td>2.120100e+10</td>\n",
              "      <td>3</td>\n",
              "      <td>10</td>\n",
              "      <td>0</td>\n",
              "      <td>0</td>\n",
              "      <td>0</td>\n",
              "      <td>1</td>\n",
              "      <td>5457</td>\n",
              "      <td>3104</td>\n",
              "      <td>0</td>\n",
              "      <td>0.0</td>\n",
              "      <td>0.0</td>\n",
              "      <td>0</td>\n",
              "    </tr>\n",
              "    <tr>\n",
              "      <th>46118</th>\n",
              "      <td>26657</td>\n",
              "      <td>8</td>\n",
              "      <td>20</td>\n",
              "      <td>1960</td>\n",
              "      <td>21</td>\n",
              "      <td>201000000</td>\n",
              "      <td>2.120100e+10</td>\n",
              "      <td>3</td>\n",
              "      <td>10</td>\n",
              "      <td>0</td>\n",
              "      <td>0</td>\n",
              "      <td>0</td>\n",
              "      <td>1</td>\n",
              "      <td>3227</td>\n",
              "      <td>3185</td>\n",
              "      <td>0</td>\n",
              "      <td>0.0</td>\n",
              "      <td>0.0</td>\n",
              "      <td>0</td>\n",
              "    </tr>\n",
              "    <tr>\n",
              "      <th>46119</th>\n",
              "      <td>26657</td>\n",
              "      <td>8</td>\n",
              "      <td>20</td>\n",
              "      <td>1960</td>\n",
              "      <td>21</td>\n",
              "      <td>201000000</td>\n",
              "      <td>2.120100e+10</td>\n",
              "      <td>3</td>\n",
              "      <td>10</td>\n",
              "      <td>0</td>\n",
              "      <td>0</td>\n",
              "      <td>0</td>\n",
              "      <td>1</td>\n",
              "      <td>3357</td>\n",
              "      <td>1122</td>\n",
              "      <td>0</td>\n",
              "      <td>0.0</td>\n",
              "      <td>0.0</td>\n",
              "      <td>0</td>\n",
              "    </tr>\n",
              "    <tr>\n",
              "      <th>46120</th>\n",
              "      <td>26657</td>\n",
              "      <td>8</td>\n",
              "      <td>20</td>\n",
              "      <td>1960</td>\n",
              "      <td>21</td>\n",
              "      <td>43000000</td>\n",
              "      <td>2.104300e+10</td>\n",
              "      <td>3</td>\n",
              "      <td>10</td>\n",
              "      <td>0</td>\n",
              "      <td>0</td>\n",
              "      <td>0</td>\n",
              "      <td>1</td>\n",
              "      <td>5327</td>\n",
              "      <td>5327</td>\n",
              "      <td>0</td>\n",
              "      <td>0.0</td>\n",
              "      <td>0.0</td>\n",
              "      <td>0</td>\n",
              "    </tr>\n",
              "    <tr>\n",
              "      <th>...</th>\n",
              "      <td>...</td>\n",
              "      <td>...</td>\n",
              "      <td>...</td>\n",
              "      <td>...</td>\n",
              "      <td>...</td>\n",
              "      <td>...</td>\n",
              "      <td>...</td>\n",
              "      <td>...</td>\n",
              "      <td>...</td>\n",
              "      <td>...</td>\n",
              "      <td>...</td>\n",
              "      <td>...</td>\n",
              "      <td>...</td>\n",
              "      <td>...</td>\n",
              "      <td>...</td>\n",
              "      <td>...</td>\n",
              "      <td>...</td>\n",
              "      <td>...</td>\n",
              "      <td>...</td>\n",
              "    </tr>\n",
              "    <tr>\n",
              "      <th>104340</th>\n",
              "      <td>5262</td>\n",
              "      <td>3</td>\n",
              "      <td>79</td>\n",
              "      <td>7742</td>\n",
              "      <td>81</td>\n",
              "      <td>842000000</td>\n",
              "      <td>8.184200e+10</td>\n",
              "      <td>5</td>\n",
              "      <td>10</td>\n",
              "      <td>29</td>\n",
              "      <td>2842</td>\n",
              "      <td>0</td>\n",
              "      <td>0</td>\n",
              "      <td>15209</td>\n",
              "      <td>12720</td>\n",
              "      <td>1</td>\n",
              "      <td>1.0</td>\n",
              "      <td>2.0</td>\n",
              "      <td>0</td>\n",
              "    </tr>\n",
              "    <tr>\n",
              "      <th>104341</th>\n",
              "      <td>5262</td>\n",
              "      <td>3</td>\n",
              "      <td>79</td>\n",
              "      <td>7742</td>\n",
              "      <td>81</td>\n",
              "      <td>842000000</td>\n",
              "      <td>8.184200e+10</td>\n",
              "      <td>5</td>\n",
              "      <td>10</td>\n",
              "      <td>29</td>\n",
              "      <td>2842</td>\n",
              "      <td>0</td>\n",
              "      <td>0</td>\n",
              "      <td>15099</td>\n",
              "      <td>14693</td>\n",
              "      <td>1</td>\n",
              "      <td>1.0</td>\n",
              "      <td>2.0</td>\n",
              "      <td>0</td>\n",
              "    </tr>\n",
              "    <tr>\n",
              "      <th>104342</th>\n",
              "      <td>5262</td>\n",
              "      <td>3</td>\n",
              "      <td>31</td>\n",
              "      <td>3038</td>\n",
              "      <td>31</td>\n",
              "      <td>805000000</td>\n",
              "      <td>3.180500e+10</td>\n",
              "      <td>5</td>\n",
              "      <td>10</td>\n",
              "      <td>30</td>\n",
              "      <td>2940</td>\n",
              "      <td>1</td>\n",
              "      <td>0</td>\n",
              "      <td>3409</td>\n",
              "      <td>3731</td>\n",
              "      <td>0</td>\n",
              "      <td>0.0</td>\n",
              "      <td>0.0</td>\n",
              "      <td>0</td>\n",
              "    </tr>\n",
              "    <tr>\n",
              "      <th>104343</th>\n",
              "      <td>5262</td>\n",
              "      <td>3</td>\n",
              "      <td>31</td>\n",
              "      <td>3038</td>\n",
              "      <td>31</td>\n",
              "      <td>805000000</td>\n",
              "      <td>3.180500e+10</td>\n",
              "      <td>5</td>\n",
              "      <td>10</td>\n",
              "      <td>30</td>\n",
              "      <td>2940</td>\n",
              "      <td>1</td>\n",
              "      <td>0</td>\n",
              "      <td>15209</td>\n",
              "      <td>12720</td>\n",
              "      <td>1</td>\n",
              "      <td>1.0</td>\n",
              "      <td>2.0</td>\n",
              "      <td>0</td>\n",
              "    </tr>\n",
              "    <tr>\n",
              "      <th>104344</th>\n",
              "      <td>5262</td>\n",
              "      <td>3</td>\n",
              "      <td>31</td>\n",
              "      <td>3038</td>\n",
              "      <td>31</td>\n",
              "      <td>805000000</td>\n",
              "      <td>3.180500e+10</td>\n",
              "      <td>5</td>\n",
              "      <td>10</td>\n",
              "      <td>30</td>\n",
              "      <td>2940</td>\n",
              "      <td>1</td>\n",
              "      <td>0</td>\n",
              "      <td>15099</td>\n",
              "      <td>14693</td>\n",
              "      <td>1</td>\n",
              "      <td>1.0</td>\n",
              "      <td>2.0</td>\n",
              "      <td>0</td>\n",
              "    </tr>\n",
              "  </tbody>\n",
              "</table>\n",
              "<p>41321 rows × 19 columns</p>\n",
              "</div>\n",
              "      <button class=\"colab-df-convert\" onclick=\"convertToInteractive('df-12420e69-af53-4981-8d26-140df2a2c3a1')\"\n",
              "              title=\"Convert this dataframe to an interactive table.\"\n",
              "              style=\"display:none;\">\n",
              "        \n",
              "  <svg xmlns=\"http://www.w3.org/2000/svg\" height=\"24px\"viewBox=\"0 0 24 24\"\n",
              "       width=\"24px\">\n",
              "    <path d=\"M0 0h24v24H0V0z\" fill=\"none\"/>\n",
              "    <path d=\"M18.56 5.44l.94 2.06.94-2.06 2.06-.94-2.06-.94-.94-2.06-.94 2.06-2.06.94zm-11 1L8.5 8.5l.94-2.06 2.06-.94-2.06-.94L8.5 2.5l-.94 2.06-2.06.94zm10 10l.94 2.06.94-2.06 2.06-.94-2.06-.94-.94-2.06-.94 2.06-2.06.94z\"/><path d=\"M17.41 7.96l-1.37-1.37c-.4-.4-.92-.59-1.43-.59-.52 0-1.04.2-1.43.59L10.3 9.45l-7.72 7.72c-.78.78-.78 2.05 0 2.83L4 21.41c.39.39.9.59 1.41.59.51 0 1.02-.2 1.41-.59l7.78-7.78 2.81-2.81c.8-.78.8-2.07 0-2.86zM5.41 20L4 18.59l7.72-7.72 1.47 1.35L5.41 20z\"/>\n",
              "  </svg>\n",
              "      </button>\n",
              "      \n",
              "  <style>\n",
              "    .colab-df-container {\n",
              "      display:flex;\n",
              "      flex-wrap:wrap;\n",
              "      gap: 12px;\n",
              "    }\n",
              "\n",
              "    .colab-df-convert {\n",
              "      background-color: #E8F0FE;\n",
              "      border: none;\n",
              "      border-radius: 50%;\n",
              "      cursor: pointer;\n",
              "      display: none;\n",
              "      fill: #1967D2;\n",
              "      height: 32px;\n",
              "      padding: 0 0 0 0;\n",
              "      width: 32px;\n",
              "    }\n",
              "\n",
              "    .colab-df-convert:hover {\n",
              "      background-color: #E2EBFA;\n",
              "      box-shadow: 0px 1px 2px rgba(60, 64, 67, 0.3), 0px 1px 3px 1px rgba(60, 64, 67, 0.15);\n",
              "      fill: #174EA6;\n",
              "    }\n",
              "\n",
              "    [theme=dark] .colab-df-convert {\n",
              "      background-color: #3B4455;\n",
              "      fill: #D2E3FC;\n",
              "    }\n",
              "\n",
              "    [theme=dark] .colab-df-convert:hover {\n",
              "      background-color: #434B5C;\n",
              "      box-shadow: 0px 1px 3px 1px rgba(0, 0, 0, 0.15);\n",
              "      filter: drop-shadow(0px 1px 2px rgba(0, 0, 0, 0.3));\n",
              "      fill: #FFFFFF;\n",
              "    }\n",
              "  </style>\n",
              "\n",
              "      <script>\n",
              "        const buttonEl =\n",
              "          document.querySelector('#df-12420e69-af53-4981-8d26-140df2a2c3a1 button.colab-df-convert');\n",
              "        buttonEl.style.display =\n",
              "          google.colab.kernel.accessAllowed ? 'block' : 'none';\n",
              "\n",
              "        async function convertToInteractive(key) {\n",
              "          const element = document.querySelector('#df-12420e69-af53-4981-8d26-140df2a2c3a1');\n",
              "          const dataTable =\n",
              "            await google.colab.kernel.invokeFunction('convertToInteractive',\n",
              "                                                     [key], {});\n",
              "          if (!dataTable) return;\n",
              "\n",
              "          const docLinkHtml = 'Like what you see? Visit the ' +\n",
              "            '<a target=\"_blank\" href=https://colab.research.google.com/notebooks/data_table.ipynb>data table notebook</a>'\n",
              "            + ' to learn more about interactive tables.';\n",
              "          element.innerHTML = '';\n",
              "          dataTable['output_type'] = 'display_data';\n",
              "          await google.colab.output.renderOutput(dataTable, element);\n",
              "          const docLink = document.createElement('div');\n",
              "          docLink.innerHTML = docLinkHtml;\n",
              "          element.appendChild(docLink);\n",
              "        }\n",
              "      </script>\n",
              "    </div>\n",
              "  </div>\n",
              "  "
            ]
          },
          "metadata": {},
          "execution_count": 23
        }
      ]
    },
    {
      "cell_type": "markdown",
      "source": [
        "# **II. Data Model building**"
      ],
      "metadata": {
        "id": "hJAYco18IsAe"
      }
    },
    {
      "cell_type": "code",
      "source": [
        "# importin modules for train test split\n",
        "from sklearn.model_selection import train_test_split\n",
        "from sklearn.mixture import GaussianMixture"
      ],
      "metadata": {
        "id": "Om5lNOE9Iw_x"
      },
      "execution_count": null,
      "outputs": []
    },
    {
      "cell_type": "markdown",
      "source": [
        "**GMM**\n",
        "\n",
        "**UDP** **Protocol**"
      ],
      "metadata": {
        "id": "htmAZNMLI5FS"
      }
    },
    {
      "cell_type": "code",
      "source": [
        "# splitting traing and testing data\n",
        "udp_train,udp_test, udp_train_label, udp_test_label= train_test_split(udp_df[udp_df.columns[:-1]],udp_df['label'],test_size=0.3,random_state=42)\n",
        "\n",
        "gmm= GaussianMixture(n_components=2)\n",
        "gmm.fit(udp_train)\n",
        "print(\"GMM Accuracy training data : \",metrics.accuracy_score(udp_train_label, gmm.predict(udp_train)))\n",
        "print(\"GMM Accuracy testing data : \", metrics.accuracy_score(udp_test_label,gmm.predict(udp_test)))"
      ],
      "metadata": {
        "colab": {
          "base_uri": "https://localhost:8080/"
        },
        "id": "MPRgEnTwI0Ti",
        "outputId": "8353aa21-6bb3-4faf-9c42-1614c28ca79c"
      },
      "execution_count": null,
      "outputs": [
        {
          "output_type": "stream",
          "name": "stdout",
          "text": [
            "GMM Accuracy training data :  0.9200673662391502\n",
            "GMM Accuracy testing data :  0.9230226700251889\n"
          ]
        }
      ]
    },
    {
      "cell_type": "markdown",
      "source": [
        "**TCP  Protocol**"
      ],
      "metadata": {
        "id": "l66-hYVKJaAO"
      }
    },
    {
      "cell_type": "code",
      "source": [
        "# splitting traing and testing data\n",
        "tcp_train,tcp_test, tcp_train_label, tcp_test_label= train_test_split(tcp_df[tcp_df.columns[:-1]],tcp_df['label'],test_size=0.3,random_state=42)\n",
        "\n",
        "gmm= GaussianMixture(n_components=2)\n",
        "gmm.fit(tcp_train)\n",
        "print(\"GMM Accuracy training data : \",metrics.accuracy_score(tcp_train_label, gmm.predict(tcp_train)))\n",
        "print(\"GMM Accuracy testing data : \", metrics.accuracy_score(tcp_test_label,gmm.predict(tcp_test)))"
      ],
      "metadata": {
        "colab": {
          "base_uri": "https://localhost:8080/"
        },
        "id": "XxbNrYE9JOz9",
        "outputId": "02f14574-229a-4555-da00-2f1ed1486c00"
      },
      "execution_count": null,
      "outputs": [
        {
          "output_type": "stream",
          "name": "stdout",
          "text": [
            "GMM Accuracy training data :  0.6129094879883523\n",
            "GMM Accuracy testing data :  0.6085381044049372\n"
          ]
        }
      ]
    },
    {
      "cell_type": "markdown",
      "source": [
        "**ICMP  Protocol**"
      ],
      "metadata": {
        "id": "PI9EXOdZJg9i"
      }
    },
    {
      "cell_type": "code",
      "source": [
        "# splitting traing and testing data\n",
        "icmp_train,icmp_test, icmp_train_label, icmp_test_label= train_test_split(icmp_df[icmp_df.columns[:-1]],icmp_df['label'],test_size=0.3,random_state=42)\n",
        "\n",
        "# GMM model \n",
        "\n",
        "gmm= GaussianMixture(n_components=2)\n",
        "gmm.fit(icmp_train)\n",
        "print(\"GMM Accuracy training data : \",metrics.accuracy_score(icmp_train_label, gmm.predict(icmp_train)))\n",
        "print(\"GMM Accuracy testing data : \", metrics.accuracy_score(icmp_test_label,gmm.predict(icmp_test)))"
      ],
      "metadata": {
        "colab": {
          "base_uri": "https://localhost:8080/"
        },
        "id": "7p8T4JKlJa4G",
        "outputId": "a601c3c7-a37a-472b-8339-498f48c40cb3"
      },
      "execution_count": null,
      "outputs": [
        {
          "output_type": "stream",
          "name": "stdout",
          "text": [
            "GMM Accuracy training data :  0.0725003457336468\n",
            "GMM Accuracy testing data :  0.07880938936839559\n"
          ]
        }
      ]
    },
    {
      "cell_type": "markdown",
      "source": [
        "As we can see accuracy is not good for GMM model\n",
        "\n",
        "#**Linear** **Perceptron**"
      ],
      "metadata": {
        "id": "6ne_IUzyJvRs"
      }
    },
    {
      "cell_type": "code",
      "source": [
        "from sklearn.linear_model import Perceptron"
      ],
      "metadata": {
        "id": "nXSsUOJ_KE_6"
      },
      "execution_count": null,
      "outputs": []
    },
    {
      "cell_type": "markdown",
      "source": [
        "**UDP**"
      ],
      "metadata": {
        "id": "2OB-vMSrKbbu"
      }
    },
    {
      "cell_type": "code",
      "source": [
        "model = Perceptron(random_state=67)\n",
        "model.fit(udp_train,udp_train_label)\n",
        "model.score(udp_train,udp_train_label)"
      ],
      "metadata": {
        "colab": {
          "base_uri": "https://localhost:8080/"
        },
        "id": "UTwYH-SnKHMe",
        "outputId": "612f518b-b816-433e-ded8-4ed6a3a87770"
      },
      "execution_count": null,
      "outputs": [
        {
          "output_type": "execute_result",
          "data": {
            "text/plain": [
              "0.47665932547393874"
            ]
          },
          "metadata": {},
          "execution_count": 29
        }
      ]
    },
    {
      "cell_type": "markdown",
      "source": [
        "**TCP**"
      ],
      "metadata": {
        "id": "VfV2m2kkKjyo"
      }
    },
    {
      "cell_type": "code",
      "source": [
        "model = Perceptron(random_state=1)\n",
        "model.fit(tcp_train,tcp_train_label)\n",
        "model.score(tcp_train,tcp_train_label)"
      ],
      "metadata": {
        "colab": {
          "base_uri": "https://localhost:8080/"
        },
        "id": "2FvjblxmKnge",
        "outputId": "f0977de8-1812-4b20-cb33-ff779c973f9c"
      },
      "execution_count": null,
      "outputs": [
        {
          "output_type": "execute_result",
          "data": {
            "text/plain": [
              "0.5268624120359137"
            ]
          },
          "metadata": {},
          "execution_count": 30
        }
      ]
    },
    {
      "cell_type": "markdown",
      "source": [
        "**ICMP**"
      ],
      "metadata": {
        "id": "iV_0YQ7RKr_j"
      }
    },
    {
      "cell_type": "code",
      "source": [
        "model = Perceptron(random_state=1)\n",
        "model.fit(icmp_train,icmp_train_label)\n",
        "model.score(icmp_train,icmp_train_label)"
      ],
      "metadata": {
        "colab": {
          "base_uri": "https://localhost:8080/"
        },
        "id": "O8Bj4svlKq3r",
        "outputId": "2f4e3493-fb7b-41fd-b1c8-6f274b7ba7ab"
      },
      "execution_count": null,
      "outputs": [
        {
          "output_type": "execute_result",
          "data": {
            "text/plain": [
              "0.7722998202185036"
            ]
          },
          "metadata": {},
          "execution_count": 31
        }
      ]
    },
    {
      "cell_type": "markdown",
      "source": [
        "**Multi**-**Layer** **perceptron**"
      ],
      "metadata": {
        "id": "yL95EhOZKxzx"
      }
    },
    {
      "cell_type": "code",
      "source": [
        "from sklearn.neural_network import MLPClassifier"
      ],
      "metadata": {
        "id": "9WDh1IVyKvVm"
      },
      "execution_count": null,
      "outputs": []
    },
    {
      "cell_type": "markdown",
      "source": [
        "**UDP**"
      ],
      "metadata": {
        "id": "ZcYQItD9K7u5"
      }
    },
    {
      "cell_type": "code",
      "source": [
        "clf= MLPClassifier(hidden_layer_sizes=(16,10),\n",
        "                  random_state=5,\n",
        "                  learning_rate_init=0.01)\n",
        "clf.fit(udp_train,udp_train_label)\n",
        "metrics.accuracy_score(clf.predict(udp_test), udp_test_label)"
      ],
      "metadata": {
        "colab": {
          "base_uri": "https://localhost:8080/"
        },
        "id": "3wh-E5MQK4Rx",
        "outputId": "448fecc9-e123-4dfe-bdb9-1c69eb1250db"
      },
      "execution_count": null,
      "outputs": [
        {
          "output_type": "execute_result",
          "data": {
            "text/plain": [
              "0.9414609571788413"
            ]
          },
          "metadata": {},
          "execution_count": 33
        }
      ]
    },
    {
      "cell_type": "markdown",
      "source": [
        "**TCP**"
      ],
      "metadata": {
        "id": "DiASNFJsLIZw"
      }
    },
    {
      "cell_type": "code",
      "source": [
        "clf= MLPClassifier(hidden_layer_sizes=(18,12),\n",
        "          random_state=5,\n",
        "          learning_rate_init=0.01)\n",
        "clf.fit(tcp_train,tcp_train_label)\n",
        "print(metrics.accuracy_score(clf.predict(tcp_test), tcp_test_label))"
      ],
      "metadata": {
        "id": "mGKUVbcgLBX5",
        "colab": {
          "base_uri": "https://localhost:8080/"
        },
        "outputId": "0bff471e-e646-4d7c-db84-dcdcce75bc61"
      },
      "execution_count": 34,
      "outputs": [
        {
          "output_type": "stream",
          "name": "stdout",
          "text": [
            "0.6394519306986751\n"
          ]
        }
      ]
    },
    {
      "cell_type": "markdown",
      "source": [
        "**ICMP**"
      ],
      "metadata": {
        "id": "E4Kn8Yv9LpI0"
      }
    },
    {
      "cell_type": "code",
      "source": [
        "clf= MLPClassifier(hidden_layer_sizes=(16,10),\n",
        "                  random_state=5,\n",
        "                  learning_rate_init=0.01)\n",
        "clf.fit(icmp_train,icmp_train_label)\n",
        "metrics.accuracy_score(clf.predict(icmp_test), icmp_test_label)"
      ],
      "metadata": {
        "colab": {
          "base_uri": "https://localhost:8080/"
        },
        "id": "zhaqKrEkLkmo",
        "outputId": "f3a2babe-9052-4c44-c2c2-f556a5a3d00b"
      },
      "execution_count": 35,
      "outputs": [
        {
          "output_type": "execute_result",
          "data": {
            "text/plain": [
              "0.999919335323062"
            ]
          },
          "metadata": {},
          "execution_count": 35
        }
      ]
    },
    {
      "cell_type": "markdown",
      "source": [
        "# **KNN**"
      ],
      "metadata": {
        "id": "3_Itf_JqL34D"
      }
    },
    {
      "cell_type": "code",
      "source": [
        "# Import necessary modules\n",
        "from sklearn.neighbors import KNeighborsClassifier\n",
        "from sklearn.model_selection import train_test_split\n",
        "from sklearn.datasets import load_iris"
      ],
      "metadata": {
        "id": "npARNTDXLtgb"
      },
      "execution_count": 36,
      "outputs": []
    },
    {
      "cell_type": "markdown",
      "source": [
        "UDP"
      ],
      "metadata": {
        "id": "L7fxkKRxL-GP"
      }
    },
    {
      "cell_type": "code",
      "source": [
        "# Create feature and target arrays\n",
        "X = udp_train\n",
        "y = udp_train_label\n",
        "\n",
        "\n",
        "knn = KNeighborsClassifier(n_neighbors=7)\n",
        "\n",
        "knn.fit(X, y)\n",
        "\n",
        "# Calculate the accuracy of the model\n",
        "print(knn.score(udp_test, udp_test_label))"
      ],
      "metadata": {
        "colab": {
          "base_uri": "https://localhost:8080/"
        },
        "id": "dEg0V-7AL9CJ",
        "outputId": "ed95d65e-262d-4193-b88b-3a455e575f6f"
      },
      "execution_count": 37,
      "outputs": [
        {
          "output_type": "stream",
          "name": "stdout",
          "text": [
            "0.9621158690176322\n"
          ]
        }
      ]
    },
    {
      "cell_type": "markdown",
      "source": [
        "**TCP**"
      ],
      "metadata": {
        "id": "8jmFAI03MI6B"
      }
    },
    {
      "cell_type": "code",
      "source": [
        "X = tcp_train\n",
        "y = tcp_train_label\n",
        "\n",
        "\n",
        "knn = KNeighborsClassifier(n_neighbors=7)\n",
        "\n",
        "knn.fit(X, y)\n",
        "\n",
        "# Calculate the accuracy of the model\n",
        "print(knn.score(tcp_test, tcp_test_label))"
      ],
      "metadata": {
        "colab": {
          "base_uri": "https://localhost:8080/"
        },
        "id": "N1hNs521MD5j",
        "outputId": "6016f71b-6234-4809-d726-2976e1086f1f"
      },
      "execution_count": 38,
      "outputs": [
        {
          "output_type": "stream",
          "name": "stdout",
          "text": [
            "0.7990035103612275\n"
          ]
        }
      ]
    },
    {
      "cell_type": "markdown",
      "source": [
        "**ICMP**"
      ],
      "metadata": {
        "id": "7gvxrOF9MQ0Z"
      }
    },
    {
      "cell_type": "code",
      "source": [
        "X = icmp_train\n",
        "y = icmp_train_label\n",
        "\n",
        "\n",
        "knn = KNeighborsClassifier(n_neighbors=7)\n",
        "\n",
        "knn.fit(X, y)\n",
        "\n",
        "# Calculate the accuracy of the model\n",
        "print(knn.score(icmp_test, icmp_test_label))"
      ],
      "metadata": {
        "colab": {
          "base_uri": "https://localhost:8080/"
        },
        "id": "ZvOmrQeOMNBl",
        "outputId": "d0ce4e8d-b039-4036-d253-06b4920bdc00"
      },
      "execution_count": 39,
      "outputs": [
        {
          "output_type": "stream",
          "name": "stdout",
          "text": [
            "0.9244978623860611\n"
          ]
        }
      ]
    },
    {
      "cell_type": "markdown",
      "source": [
        "# **SVM**"
      ],
      "metadata": {
        "id": "D8PiNq4TMZir"
      }
    },
    {
      "cell_type": "code",
      "source": [
        "from sklearn import svm"
      ],
      "metadata": {
        "id": "VAmgO9RlMUzw"
      },
      "execution_count": 40,
      "outputs": []
    },
    {
      "cell_type": "markdown",
      "source": [
        "**UDP**"
      ],
      "metadata": {
        "id": "ai29A60pMkNl"
      }
    },
    {
      "cell_type": "code",
      "source": [
        "clf= svm.SVC(kernel='poly')\n",
        "clf.fit(udp_train,udp_train_label)\n",
        "clf.score(udp_test,udp_test_label)"
      ],
      "metadata": {
        "colab": {
          "base_uri": "https://localhost:8080/"
        },
        "id": "qUiIxkf9MeD_",
        "outputId": "094eef16-dfa7-494a-c866-d6ef114a97f9"
      },
      "execution_count": 41,
      "outputs": [
        {
          "output_type": "execute_result",
          "data": {
            "text/plain": [
              "0.6605541561712847"
            ]
          },
          "metadata": {},
          "execution_count": 41
        }
      ]
    },
    {
      "cell_type": "markdown",
      "source": [
        "**TCP**"
      ],
      "metadata": {
        "id": "V4Bj28leMqaG"
      }
    },
    {
      "cell_type": "code",
      "source": [
        "clf= svm.SVC()\n",
        "clf.fit(tcp_train,tcp_train_label)\n",
        "metrics.accuracy_score(clf.predict(tcp_test),tcp_test_label)"
      ],
      "metadata": {
        "colab": {
          "base_uri": "https://localhost:8080/"
        },
        "id": "hcA9C-KlMoXG",
        "outputId": "aa470675-7458-4c92-a055-060f3eeefa50"
      },
      "execution_count": 42,
      "outputs": [
        {
          "output_type": "execute_result",
          "data": {
            "text/plain": [
              "0.6720643188766844"
            ]
          },
          "metadata": {},
          "execution_count": 42
        }
      ]
    },
    {
      "cell_type": "markdown",
      "source": [
        "**ICMP**"
      ],
      "metadata": {
        "id": "Y2s17oCIM59y"
      }
    },
    {
      "cell_type": "code",
      "source": [
        "clf= svm.SVC()\n",
        "clf.fit(icmp_train,icmp_train_label)\n",
        "metrics.accuracy_score(clf.predict(icmp_test),icmp_test_label)"
      ],
      "metadata": {
        "colab": {
          "base_uri": "https://localhost:8080/"
        },
        "id": "bq5I9HDAMvP8",
        "outputId": "c691a075-b275-4b22-f020-d7aa82f65d51"
      },
      "execution_count": 43,
      "outputs": [
        {
          "output_type": "execute_result",
          "data": {
            "text/plain": [
              "0.7991449544244575"
            ]
          },
          "metadata": {},
          "execution_count": 43
        }
      ]
    },
    {
      "cell_type": "markdown",
      "source": [
        "# **Random** **Forest** **Classifier**"
      ],
      "metadata": {
        "id": "POFy6S6-NBeT"
      }
    },
    {
      "cell_type": "code",
      "source": [
        "from sklearn.ensemble import RandomForestRegressor\n",
        "from sklearn.metrics import accuracy_score"
      ],
      "metadata": {
        "id": "2068_nPXNHQ9"
      },
      "execution_count": 44,
      "outputs": []
    },
    {
      "cell_type": "markdown",
      "source": [
        "**UDP**"
      ],
      "metadata": {
        "id": "ElDdbycnNXK6"
      }
    },
    {
      "cell_type": "code",
      "source": [
        "# create regressor object\n",
        "udp_rf = RandomForestRegressor()\n",
        "\n",
        "# fit the regressor with x and y data\n",
        "udp_rf.fit(udp_train,udp_train_label)\n",
        "predi = udp_rf.predict(udp_test)\n",
        "accuracy_score(predi.round(), udp_test_label)"
      ],
      "metadata": {
        "colab": {
          "base_uri": "https://localhost:8080/"
        },
        "id": "wOD4BiVANMJ2",
        "outputId": "96a8a56c-ff6e-4834-cd6e-aba441d59b14"
      },
      "execution_count": 45,
      "outputs": [
        {
          "output_type": "execute_result",
          "data": {
            "text/plain": [
              "1.0"
            ]
          },
          "metadata": {},
          "execution_count": 45
        }
      ]
    },
    {
      "cell_type": "code",
      "source": [
        "plt.bar(udp_df.columns[:-1], udp_rf.feature_importances_)\n",
        "plt.xticks(rotation=45)\n",
        "plt.title(\"Feature Importance in deciding class Label\")\n",
        "plt.xlabel(\"Feautre names\")\n",
        "plt.ylabel(\"Importance \")"
      ],
      "metadata": {
        "colab": {
          "base_uri": "https://localhost:8080/",
          "height": 543
        },
        "id": "4uWXzrZtNaNX",
        "outputId": "eb197089-d41d-4077-f09e-36530cfd9899"
      },
      "execution_count": 46,
      "outputs": [
        {
          "output_type": "execute_result",
          "data": {
            "text/plain": [
              "Text(0, 0.5, 'Importance ')"
            ]
          },
          "metadata": {},
          "execution_count": 46
        },
        {
          "output_type": "display_data",
          "data": {
            "text/plain": [
              "<Figure size 640x480 with 1 Axes>"
            ],
            "image/png": "[encoded data removed]"
          },
          "metadata": {}
        }
      ]
    },
    {
      "cell_type": "markdown",
      "source": [
        "**TCP**"
      ],
      "metadata": {
        "id": "Kwe-liN-NpIV"
      }
    },
    {
      "cell_type": "code",
      "source": [
        "# create regressor object\n",
        "tcp_rf = RandomForestRegressor()\n",
        "\n",
        "# fit the regressor with x and y data\n",
        "tcp_rf.fit(tcp_train,tcp_train_label)\n",
        "predi = tcp_rf.predict(tcp_test)\n",
        "accuracy_score(predi.round(), tcp_test_label)"
      ],
      "metadata": {
        "colab": {
          "base_uri": "https://localhost:8080/"
        },
        "id": "tk-VEbkGNdwO",
        "outputId": "f652597f-bb96-4423-e50d-7c09dc092273"
      },
      "execution_count": 47,
      "outputs": [
        {
          "output_type": "execute_result",
          "data": {
            "text/plain": [
              "0.9998867625410486"
            ]
          },
          "metadata": {},
          "execution_count": 47
        }
      ]
    },
    {
      "cell_type": "code",
      "source": [
        "plt.bar(tcp_df.columns[:-1], tcp_rf.feature_importances_)\n",
        "plt.xticks(rotation=45)\n",
        "plt.title(\"Feature Importance in deciding class Label\")\n",
        "plt.xlabel(\"Feautre names\")\n",
        "plt.ylabel(\"Importance \")"
      ],
      "metadata": {
        "colab": {
          "base_uri": "https://localhost:8080/",
          "height": 543
        },
        "id": "67kFZlfMNs7-",
        "outputId": "eebf0d2e-8e88-44d6-c52c-4abf3983c729"
      },
      "execution_count": 48,
      "outputs": [
        {
          "output_type": "execute_result",
          "data": {
            "text/plain": [
              "Text(0, 0.5, 'Importance ')"
            ]
          },
          "metadata": {},
          "execution_count": 48
        },
        {
          "output_type": "display_data",
          "data": {
            "text/plain": [
              "<Figure size 640x480 with 1 Axes>"
            ],
            "image/png": "[encoded data removed]"
          },
          "metadata": {}
        }
      ]
    },
    {
      "cell_type": "markdown",
      "source": [
        "**ICMP**"
      ],
      "metadata": {
        "id": "nMK6urZsN0F1"
      }
    },
    {
      "cell_type": "code",
      "source": [
        "# create regressor object\n",
        "icmp_rf = RandomForestRegressor()\n",
        "\n",
        "# fit the regressor with x and y data\n",
        "icmp_rf.fit(icmp_train,icmp_train_label)\n",
        "accuracy_score(icmp_rf.predict(icmp_test).round(), icmp_test_label)"
      ],
      "metadata": {
        "colab": {
          "base_uri": "https://localhost:8080/"
        },
        "id": "xmGQSemlNxXb",
        "outputId": "30767605-3468-45a9-b556-de43b470c3a0"
      },
      "execution_count": 49,
      "outputs": [
        {
          "output_type": "execute_result",
          "data": {
            "text/plain": [
              "1.0"
            ]
          },
          "metadata": {},
          "execution_count": 49
        }
      ]
    },
    {
      "cell_type": "code",
      "source": [
        "plt.bar(icmp_df.columns[:-1], icmp_rf.feature_importances_)\n",
        "plt.xticks(rotation=45)\n",
        "plt.title(\"Feature Importance in deciding class Label\")\n",
        "plt.xlabel(\"Feautre names\")\n",
        "plt.ylabel(\"Importance \")"
      ],
      "metadata": {
        "colab": {
          "base_uri": "https://localhost:8080/",
          "height": 543
        },
        "id": "b5Bhe2UCN6df",
        "outputId": "04699004-927a-468b-bd0f-1f608333edc8"
      },
      "execution_count": 50,
      "outputs": [
        {
          "output_type": "execute_result",
          "data": {
            "text/plain": [
              "Text(0, 0.5, 'Importance ')"
            ]
          },
          "metadata": {},
          "execution_count": 50
        },
        {
          "output_type": "display_data",
          "data": {
            "text/plain": [
              "<Figure size 640x480 with 1 Axes>"
            ],
            "image/png": "[encoded data removed]"
          },
          "metadata": {}
        }
      ]
    },
    {
      "cell_type": "code",
      "source": [],
      "metadata": {
        "id": "WoP1R1OtO_8f"
      },
      "execution_count": null,
      "outputs": []
    }
  ]
}